{
 "cells": [
  {
   "cell_type": "code",
   "execution_count": 2,
   "metadata": {},
   "outputs": [],
   "source": [
    "import json\n",
    "import requests"
   ]
  },
  {
   "cell_type": "code",
   "execution_count": 37,
   "metadata": {},
   "outputs": [],
   "source": [
    "url = 'https://app.nanonets.com/api/v2/OCR/Model/08fe2528-e1e6-49c9-aff1-7aae3d13cba5/LabelFile/?async=false'"
   ]
  },
  {
   "cell_type": "code",
   "execution_count": 38,
   "metadata": {},
   "outputs": [],
   "source": [
    "data = {'file': open('file path', 'rb')}"
   ]
  },
  {
   "cell_type": "code",
   "execution_count": 39,
   "metadata": {},
   "outputs": [],
   "source": [
    "response = requests.post(url, auth=requests.auth.HTTPBasicAuth('API KEY', ''), files=data)\n",
    "json_data = json.loads(response.text)"
   ]
  },
  {
   "cell_type": "code",
   "execution_count": 96,
   "metadata": {},
   "outputs": [],
   "source": [
    "predictions = json_data.get(\"result\", [])[0].get(\"prediction\", [])\n",
    "# print(response.text)"
   ]
  },
  {
   "cell_type": "code",
   "execution_count": 97,
   "metadata": {},
   "outputs": [],
   "source": [
    "# Variables to store extracted data\n",
    "merchant_name = \"\"\n",
    "total_amount = 0.0  \n",
    "tax_amount = 0.0    \n",
    "date = \"\"\n",
    "items = []\n",
    "\n",
    "# Helper dictionary to organize items\n",
    "item_details = {}"
   ]
  },
  {
   "cell_type": "code",
   "execution_count": 98,
   "metadata": {},
   "outputs": [],
   "source": [
    "# Iterate through each prediction\n",
    "for prediction in predictions:\n",
    "    if prediction['label'] == 'Merchant_Name':\n",
    "        merchant_name = prediction['ocr_text']\n",
    "    elif prediction['label'] == 'Total_Amount':\n",
    "        # Clean total\n",
    "        clean_total_amount = prediction['ocr_text'].replace('$', '').replace(',', '') if prediction['ocr_text'] else '0.0'\n",
    "        try:\n",
    "            # print(clean_total_amount, type(clean_total_amount))  # comment out\n",
    "            total_amount = float(clean_total_amount)  # truthy value else 0.0\n",
    "            # print(total_amount, type(total_amount))  # comment out\n",
    "        except ValueError:\n",
    "            total_amount = 0.0  # float conversion error\n",
    "    elif prediction['label'] == 'Tax_Amount':\n",
    "        # Clean tax\n",
    "        clean_tax_amount = prediction['ocr_text'].replace('$', '').replace(',', '') if prediction['ocr_text'] else '0.0'\n",
    "        try:\n",
    "            # print(clean_tax_amount, type(clean_tax_amount))  # comment out\n",
    "            tax_amount = float(clean_tax_amount)  # truthy value else 0.0\n",
    "            # print(tax_amount, type(tax_amount))  # comment out\n",
    "        except ValueError: \n",
    "            tax_amount = 0.0  # float conversion error\n",
    "    elif prediction['label'] == 'Date':\n",
    "        date = prediction['ocr_text']\n",
    "    elif prediction['label'] == 'table':\n",
    "        for cell in prediction['cells']:\n",
    "            row = cell['row']\n",
    "            label = cell['label']\n",
    "            text = cell['text']\n",
    "            if row not in item_details:\n",
    "                item_details[row] = {'Quantity': '1', 'Description': '', 'Line_Amount': ''}  # Default quantity to '1'\n",
    "            if label in ['Quantity', 'Description', 'Line_Amount']:\n",
    "                item_details[row][label] = text\n",
    "\n",
    "# Convert item details to a list of structured dictionaries\n",
    "item_list = []\n",
    "for item in item_details.values():\n",
    "    # Cleaning line amount\n",
    "    clean_line_amount = item['Line_Amount'].replace('$', '').replace(',', '') if item['Line_Amount'] else '0.0'\n",
    "    try:\n",
    "        price = float(clean_line_amount)\n",
    "    except ValueError:\n",
    "        price = 0.0\n",
    "\n",
    "    # Converting quantity to an integer\n",
    "    try:\n",
    "        quantity = int(item['Quantity']) if item['Quantity'] else 1\n",
    "    except ValueError:\n",
    "        quantity = 1  # Default to 1 if conversion fails\n",
    "\n",
    "    item_list.append({\n",
    "        'Name': item['Description'], \n",
    "        'Price': price,\n",
    "        'Quantity': quantity\n",
    "    })"
   ]
  },
  {
   "cell_type": "code",
   "execution_count": 99,
   "metadata": {},
   "outputs": [],
   "source": [
    "final_output = {\n",
    "    'Merchant Name': merchant_name,\n",
    "    'Total Amount': total_amount,\n",
    "    'Tax Amount': tax_amount,\n",
    "    'Date': date,\n",
    "    'Items': item_list\n",
    "}"
   ]
  },
  {
   "cell_type": "code",
   "execution_count": 103,
   "metadata": {},
   "outputs": [
    {
     "name": "stdout",
     "output_type": "stream",
     "text": [
      "Merchant Name type: DIN TAI FUNG <class 'str'>\n",
      "Total Amount type: 181.06 <class 'float'>\n",
      "Tax Amount type: 14.26 <class 'float'>\n",
      "Date type: 2023-07-18 <class 'str'>\n",
      "Item 1 - Name type: <class 'str'>, Price type: <class 'float'>, 7.5, Quantity type: <class 'int'>, 1\n",
      "Item 2 - Name type: <class 'str'>, Price type: <class 'float'>, 14.5, Quantity type: <class 'int'>, 1\n",
      "Item 3 - Name type: <class 'str'>, Price type: <class 'float'>, 12.5, Quantity type: <class 'int'>, 1\n",
      "Item 4 - Name type: <class 'str'>, Price type: <class 'float'>, 15.5, Quantity type: <class 'int'>, 1\n",
      "Item 5 - Name type: <class 'str'>, Price type: <class 'float'>, 10.5, Quantity type: <class 'int'>, 1\n",
      "Item 6 - Name type: <class 'str'>, Price type: <class 'float'>, 14.0, Quantity type: <class 'int'>, 1\n",
      "Item 7 - Name type: <class 'str'>, Price type: <class 'float'>, 15.5, Quantity type: <class 'int'>, 1\n",
      "Item 8 - Name type: <class 'str'>, Price type: <class 'float'>, 15.0, Quantity type: <class 'int'>, 1\n",
      "Item 9 - Name type: <class 'str'>, Price type: <class 'float'>, 18.0, Quantity type: <class 'int'>, 1\n",
      "Item 10 - Name type: <class 'str'>, Price type: <class 'float'>, 16.0, Quantity type: <class 'int'>, 1\n"
     ]
    }
   ],
   "source": [
    "# Data type checks\n",
    "\n",
    "print(\"Merchant Name type:\", final_output['Merchant Name'], type(final_output['Merchant Name']))\n",
    "print(\"Total Amount type:\", final_output['Total Amount'], type(final_output['Total Amount']))\n",
    "print(\"Tax Amount type:\", final_output['Tax Amount'], type(final_output['Tax Amount']))\n",
    "print(\"Date type:\", final_output['Date'], type(final_output['Date']))\n",
    "\n",
    "for i, item in enumerate(final_output['Items'], start=1):\n",
    "    print(f\"Item {i} - Name type: {type(item['Name'])}, Price type: {type(item['Price'])}, {item['Price']}, Quantity type: {type(item['Quantity'])}, {item['Quantity']}\")"
   ]
  },
  {
   "cell_type": "code",
   "execution_count": null,
   "metadata": {},
   "outputs": [],
   "source": []
  }
 ],
 "metadata": {
  "kernelspec": {
   "display_name": "venv",
   "language": "python",
   "name": "python3"
  },
  "language_info": {
   "codemirror_mode": {
    "name": "ipython",
    "version": 3
   },
   "file_extension": ".py",
   "mimetype": "text/x-python",
   "name": "python",
   "nbconvert_exporter": "python",
   "pygments_lexer": "ipython3",
   "version": "3.12.0"
  }
 },
 "nbformat": 4,
 "nbformat_minor": 2
}
